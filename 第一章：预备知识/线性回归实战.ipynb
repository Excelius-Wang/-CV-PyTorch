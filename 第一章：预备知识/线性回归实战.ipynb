{
  "nbformat": 4,
  "nbformat_minor": 0,
  "metadata": {
    "colab": {
      "provenance": [],
      "gpuType": "T4"
    },
    "kernelspec": {
      "name": "python3",
      "display_name": "Python 3"
    },
    "language_info": {
      "name": "python"
    },
    "accelerator": "GPU"
  },
  "cells": [
    {
      "cell_type": "markdown",
      "source": [
        "# 1. 导入基本项目库"
      ],
      "metadata": {
        "id": "NZgAHjK9gtck"
      }
    },
    {
      "cell_type": "code",
      "execution_count": null,
      "metadata": {
        "id": "30eU8w2UgU04"
      },
      "outputs": [],
      "source": [
        "import torch\n",
        "import numpy as np\n",
        "import matplotlib.pyplot as plt"
      ]
    },
    {
      "cell_type": "markdown",
      "source": [
        "# 2. 导入相关数据\n",
        "\n",
        "这里使用的数据是预先设计好的人造数据"
      ],
      "metadata": {
        "id": "M65rNjiDgwOZ"
      }
    },
    {
      "cell_type": "code",
      "source": [
        "x_train = np.array([[3.3], [4.4], [5.5], [6.71], [6.93], [4.168],\n",
        "[9.779], [6.182], [7.59], [2.167], [7.042],\n",
        "[10.791], [5.313], [7.997], [3.1]], dtype=np.float32)\n",
        "y_train = np.array([[1.7], [2.76], [2.09], [3.19], [1.694], [1.573],\n",
        "[3.366], [2.596], [2.53], [1.221], [2.827],\n",
        "[3.465], [1.65], [2.904], [1.3]], dtype=np.float32)\n",
        "# 转换为 Tensor\n",
        "x_train = torch.from_numpy(x_train)\n",
        "y_train = torch.from_numpy(y_train)"
      ],
      "metadata": {
        "id": "AkWeEosfg_oe"
      },
      "execution_count": null,
      "outputs": []
    },
    {
      "cell_type": "markdown",
      "source": [
        "绘制一下预设的数据，查看数据的分布"
      ],
      "metadata": {
        "id": "uxEDgwSChQ7N"
      }
    },
    {
      "cell_type": "code",
      "source": [
        "# plot src data\n",
        "plt.plot(x_train.data.numpy(), y_train.data.numpy(), 'bo')\n",
        "plt.show()"
      ],
      "metadata": {
        "colab": {
          "base_uri": "https://localhost:8080/",
          "height": 430
        },
        "id": "f7a8giENhJSC",
        "outputId": "cdc76fc4-29b0-4fc1-d273-2f8c2cd9b304"
      },
      "execution_count": null,
      "outputs": [
        {
          "output_type": "display_data",
          "data": {
            "text/plain": [
              "<Figure size 640x480 with 1 Axes>"
            ],
            "image/png": "[encoded data removed]"
          },
          "metadata": {}
        }
      ]
    },
    {
      "cell_type": "markdown",
      "source": [
        "这里大概可以看出来 x 和 y 基本上是符合线性关系，那么使用线性回归去拟合 x 和 y 的关系是合理的。"
      ],
      "metadata": {
        "id": "MvNC31dnjF2m"
      }
    },
    {
      "cell_type": "markdown",
      "source": [
        "# 3. 构建模型\n",
        "接下来就是定义线性模型："
      ],
      "metadata": {
        "id": "UYhitgdijTdX"
      }
    },
    {
      "cell_type": "code",
      "source": [
        "# define the linear model\n",
        "# y = w * x + b\n",
        "w = torch.tensor([-1.], requires_grad=True)\n",
        "b = torch.tensor([0.], requires_grad=True)\n",
        "\n",
        "def linear_model(x):\n",
        "    return x * w + b"
      ],
      "metadata": {
        "id": "IBwl_NorjSHd"
      },
      "execution_count": 4,
      "outputs": []
    },
    {
      "cell_type": "markdown",
      "source": [
        "这里线性回归模型的参数 w 和 b 是随意初始化的，绘制一下预测结果，理论上来讲肯定是不拟合的："
      ],
      "metadata": {
        "id": "t7Wgv7SCjvSI"
      }
    },
    {
      "cell_type": "code",
      "source": [
        "# plot estimate result before train\n",
        "y_ = linear_model(x_train)\n",
        "plt.plot(x_train.data.numpy(), y_train.data.numpy(), 'bo', label='real')\n",
        "plt.plot(x_train.data.numpy(), y_.data.numpy(), 'ro', label='estimated')\n",
        "plt.legend()\n",
        "plt.show()"
      ],
      "metadata": {
        "colab": {
          "base_uri": "https://localhost:8080/",
          "height": 431
        },
        "id": "GtZ99_1Wj8sY",
        "outputId": "5585b3c8-eba6-403f-f4ee-6820672beaa5"
      },
      "execution_count": 7,
      "outputs": [
        {
          "output_type": "display_data",
          "data": {
            "text/plain": [
              "<Figure size 640x480 with 1 Axes>"
            ],
            "image/png": "[encoded data removed]"
          },
          "metadata": {}
        }
      ]
    },
    {
      "cell_type": "markdown",
      "source": [
        "# 4. 定义损失函数\n",
        "对于线性回归模型来说，损失函数可以是预测结果与标准结果之间误差的平方和，也就是最小二乘法："
      ],
      "metadata": {
        "id": "vuajPU8fknO_"
      }
    },
    {
      "cell_type": "code",
      "source": [
        "def get_loss(y_, y):\n",
        "    return torch.mean((y_ - y_train) ** 2)"
      ],
      "metadata": {
        "id": "vvR0ZFxRkzwL"
      },
      "execution_count": 8,
      "outputs": []
    },
    {
      "cell_type": "markdown",
      "source": [
        "# 5. 利用梯度下降法进行训练迭代"
      ],
      "metadata": {
        "id": "DE3zW7Mmk96s"
      }
    },
    {
      "cell_type": "code",
      "source": [
        "# train 10 iteration\n",
        "lr = 1e-2\n",
        "\n",
        "for e in range(10):\n",
        "    y_ = linear_model(x_train)\n",
        "\n",
        "    # compute loss\n",
        "    loss = get_loss(y_, y_train)\n",
        "    loss.backward()\n",
        "\n",
        "    # 手动更新参数\n",
        "    w.data = w.data - lr * w.grad.data\n",
        "    b.data = b.data - lr * b.grad.data\n",
        "\n",
        "    print(\"epoch: {}, loss: {}\".format(e, loss))\n",
        "\n",
        "    # reset the grad to zero\n",
        "    w.grad.zero_()\n",
        "    b.grad.zero_()"
      ],
      "metadata": {
        "colab": {
          "base_uri": "https://localhost:8080/"
        },
        "id": "bvXrT_ZvlCsu",
        "outputId": "a656bf89-de59-4359-d429-5dc336249bee"
      },
      "execution_count": 9,
      "outputs": [
        {
          "output_type": "stream",
          "name": "stdout",
          "text": [
            "epoch: 0, loss: 79.35061645507812\n",
            "epoch: 1, loss: 1.6737390756607056\n",
            "epoch: 2, loss: 0.23599520325660706\n",
            "epoch: 3, loss: 0.20918604731559753\n",
            "epoch: 4, loss: 0.20848968625068665\n",
            "epoch: 5, loss: 0.2082776129245758\n",
            "epoch: 6, loss: 0.20807550847530365\n",
            "epoch: 7, loss: 0.2078746259212494\n",
            "epoch: 8, loss: 0.2076748162508011\n",
            "epoch: 9, loss: 0.2074759602546692\n"
          ]
        }
      ]
    },
    {
      "cell_type": "markdown",
      "source": [
        "训练结果如上所示，可以看到损失是不断在下降的，也就是说模型的精度在不断上升，再次绘制一下预测结果："
      ],
      "metadata": {
        "id": "zrDSTq0-mlDf"
      }
    },
    {
      "cell_type": "code",
      "source": [
        "# plot estimate result after train\n",
        "y_ = linear_model(x_train)\n",
        "plt.plot(x_train.data.numpy(), y_train.data.numpy(), 'bo', label='real')\n",
        "plt.plot(x_train.data.numpy(), y_.data.numpy(), 'ro', label='estimated')\n",
        "plt.legend()\n",
        "plt.show()"
      ],
      "metadata": {
        "colab": {
          "base_uri": "https://localhost:8080/",
          "height": 430
        },
        "id": "lUACKc03mxdA",
        "outputId": "3deaf318-6cb4-43f5-9c16-cdf97069398d"
      },
      "execution_count": 10,
      "outputs": [
        {
          "output_type": "display_data",
          "data": {
            "text/plain": [
              "<Figure size 640x480 with 1 Axes>"
            ],
            "image/png": "[encoded data removed]"
          },
          "metadata": {}
        }
      ]
    },
    {
      "cell_type": "markdown",
      "source": [
        "这里可以看到，模型基本上是学习到了 x 和 y 之间的规律了。"
      ],
      "metadata": {
        "id": "YxwB2fEHm2yS"
      }
    }
  ]
}