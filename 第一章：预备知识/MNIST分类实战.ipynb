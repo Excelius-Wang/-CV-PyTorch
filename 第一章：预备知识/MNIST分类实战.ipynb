{
  "nbformat": 4,
  "nbformat_minor": 0,
  "metadata": {
    "colab": {
      "provenance": []
    },
    "kernelspec": {
      "name": "python3",
      "display_name": "Python 3"
    },
    "language_info": {
      "name": "python"
    }
  },
  "cells": [
    {
      "cell_type": "markdown",
      "source": [
        "# MNIST 数据集简介\n",
        "它是一个手写数字数据集，包含了0 ~ 9这10个数字，一共有7万张灰度图像，其中6w张训练接，1w张测试集，并且每张都有标签，如标签0对应图像中数字0，标签1对应图像中数字1，以此类推...。 另外，在 MNIST 数据集中的每张图片由 28 x 28 个像素点构成, 每个像素点用一个灰度值表示,灰度值在0 ~ 1 或 0 ~ 255之间，MINIST数据集图像示例如下：\n",
        "\n",
        "![MNIST.png](https://raw.githubusercontent.com/datawhalechina/dive-into-cv-pytorch/master/markdown_imgs/chapter01/1.5_FC_MNIST_Classification/MNIST.png)"
      ],
      "metadata": {
        "id": "6xFgWL7Qq1Ym"
      }
    },
    {
      "cell_type": "markdown",
      "source": [
        "# 全连接神经网络和激活函数\n",
        "这里我就不多说了，大家还是看一下 Datawhale 的动手学 CV-PyTorch 的官方教程：\n",
        "[1.5 初识图像分类：MNIST分类实战](https://datawhalechina.github.io/dive-into-cv-pytorch/#/chapter01_preliminary_knowledge/1.5_mnist_classification/README)"
      ],
      "metadata": {
        "id": "MGn0Oi6mqqko"
      }
    },
    {
      "cell_type": "markdown",
      "source": [
        "# 全连接神经网络（MLP）实现 MNIST 分类\n",
        "## 首先导入相关模块"
      ],
      "metadata": {
        "id": "GH-ozOH9r9_e"
      }
    },
    {
      "cell_type": "code",
      "source": [
        "import torch\n",
        "import torch.nn as nn\n",
        "import numpy as np\n",
        "from torch import optim\n",
        "from torch.autograd import Variable\n",
        "from torch.utils.data import DataLoader\n",
        "from torchvision.datasets import mnist\n",
        "from torchvision import transforms\n",
        "import matplotlib.pyplot as plt"
      ],
      "metadata": {
        "id": "KAlUeyx7sJA_"
      },
      "execution_count": 2,
      "outputs": []
    },
    {
      "cell_type": "markdown",
      "source": [
        "## 全连接网络构建\n",
        "这里构建输入层、四层全连接层和输出层，输入层节点个数为 784，FC1 的节点个数为 512，FC2 的节点个数为 256，FC3 的节点个数为 128，输出节点的个数是 10（10 个分类）。每个全连接层都接有一个激活函数，我们使用 Relu。"
      ],
      "metadata": {
        "id": "VQ2gjydasOYj"
      }
    },
    {
      "cell_type": "code",
      "source": [
        "# 定义网络结构\n",
        "class Net(nn.Module):\n",
        "    def __init__(self, in_c=784, out_c=10):\n",
        "        super(Net, self).__init__()\n",
        "\n",
        "        # 定义全连接层\n",
        "        self.fc1 = nn.Linear(in_c, 512)\n",
        "        # 定义激活层\n",
        "        self.act1 = nn.ReLU(inplace=True)\n",
        "\n",
        "        self.fc2 = nn.Linear(512, 256)\n",
        "        self.act2 = nn.ReLU(inplace=True)\n",
        "\n",
        "        self.fc3 = nn.Linear(256, 128)\n",
        "        self.act3 = nn.ReLU(inplace=True)\n",
        "\n",
        "        self.fc4 = nn.Linear(128, out_c)\n",
        "\n",
        "    def forward(self, x):\n",
        "        x = self.act1(self.fc1(x))\n",
        "        x = self.act2(self.fc2(x))\n",
        "        x = self.act3(self.fc3(x))\n",
        "        x = self.fc4(x)\n",
        "\n",
        "        return x\n",
        "\n",
        "# 构建网络\n",
        "net = Net()"
      ],
      "metadata": {
        "id": "Wq4684oHs4La"
      },
      "execution_count": 4,
      "outputs": []
    },
    {
      "cell_type": "markdown",
      "source": [
        "## 加载数据和网络输入\n",
        "这里直接以 MNIST 数据集中图像的像素值作为特征输入，MNIST 图像的维度是 28 × 28 × 1 = 784，这里我们直接把 28 × 28 的像素值展开平铺为 784 × 1的数据输入给输入层，这个和我们定义的网络的输入维度是一致的："
      ],
      "metadata": {
        "id": "rfIU5ZIRuO-N"
      }
    },
    {
      "cell_type": "code",
      "source": [
        "# 准备数据集\n",
        "# 训练集\n",
        "train_set = mnist.MNIST('./data', train=True, transform=transforms.ToTensor(), download=True)\n",
        "\n",
        "# 测试集\n",
        "test_set = mnist.MNIST('./data', train=False, transform=transforms.ToTensor(), download=True)\n",
        "\n",
        "# 训练集载入器\n",
        "train_data = DataLoader(train_set, batch_size=64, shuffle=True)\n",
        "\n",
        "# 测试集载入器\n",
        "test_data = DataLoader(test_set, batch_size=128, shuffle=False)\n",
        "\n",
        "# 可视化数据\n",
        "import random\n",
        "\n",
        "for i in range(4):\n",
        "    ax = plt.subplot(2, 2, i + 1)\n",
        "    idx = random.randint(0, len(train_set))\n",
        "    digit_0 = train_set[idx][0].numpy()\n",
        "    digit_0_image = digit_0.reshape(28, 28)\n",
        "    ax.imshow(digit_0_image, interpolation=\"nearest\")\n",
        "    ax.set_title(\"label: {}\".format(train_set[idx][1]), fontsize=10, color=\"black\")\n",
        "\n",
        "plt.show()"
      ],
      "metadata": {
        "colab": {
          "base_uri": "https://localhost:8080/",
          "height": 1000
        },
        "id": "w44l11-ot_Gp",
        "outputId": "ab19c16e-0ad6-43ab-bd89-9f7bdab40f5c"
      },
      "execution_count": 5,
      "outputs": [
        {
          "output_type": "stream",
          "name": "stdout",
          "text": [
            "Downloading http://yann.lecun.com/exdb/mnist/train-images-idx3-ubyte.gz\n",
            "Failed to download (trying next):\n",
            "HTTP Error 404: Not Found\n",
            "\n",
            "Downloading https://ossci-datasets.s3.amazonaws.com/mnist/train-images-idx3-ubyte.gz\n",
            "Downloading https://ossci-datasets.s3.amazonaws.com/mnist/train-images-idx3-ubyte.gz to ./data/MNIST/raw/train-images-idx3-ubyte.gz\n"
          ]
        },
        {
          "output_type": "stream",
          "name": "stderr",
          "text": [
            "100%|██████████| 9.91M/9.91M [00:00<00:00, 58.7MB/s]\n"
          ]
        },
        {
          "output_type": "stream",
          "name": "stdout",
          "text": [
            "Extracting ./data/MNIST/raw/train-images-idx3-ubyte.gz to ./data/MNIST/raw\n",
            "\n",
            "Downloading http://yann.lecun.com/exdb/mnist/train-labels-idx1-ubyte.gz\n",
            "Failed to download (trying next):\n",
            "HTTP Error 404: Not Found\n",
            "\n",
            "Downloading https://ossci-datasets.s3.amazonaws.com/mnist/train-labels-idx1-ubyte.gz\n",
            "Downloading https://ossci-datasets.s3.amazonaws.com/mnist/train-labels-idx1-ubyte.gz to ./data/MNIST/raw/train-labels-idx1-ubyte.gz\n"
          ]
        },
        {
          "output_type": "stream",
          "name": "stderr",
          "text": [
            "100%|██████████| 28.9k/28.9k [00:00<00:00, 1.77MB/s]\n"
          ]
        },
        {
          "output_type": "stream",
          "name": "stdout",
          "text": [
            "Extracting ./data/MNIST/raw/train-labels-idx1-ubyte.gz to ./data/MNIST/raw\n",
            "\n",
            "Downloading http://yann.lecun.com/exdb/mnist/t10k-images-idx3-ubyte.gz\n",
            "Failed to download (trying next):\n",
            "HTTP Error 404: Not Found\n",
            "\n",
            "Downloading https://ossci-datasets.s3.amazonaws.com/mnist/t10k-images-idx3-ubyte.gz\n",
            "Downloading https://ossci-datasets.s3.amazonaws.com/mnist/t10k-images-idx3-ubyte.gz to ./data/MNIST/raw/t10k-images-idx3-ubyte.gz\n"
          ]
        },
        {
          "output_type": "stream",
          "name": "stderr",
          "text": [
            "100%|██████████| 1.65M/1.65M [00:00<00:00, 12.8MB/s]\n"
          ]
        },
        {
          "output_type": "stream",
          "name": "stdout",
          "text": [
            "Extracting ./data/MNIST/raw/t10k-images-idx3-ubyte.gz to ./data/MNIST/raw\n",
            "\n",
            "Downloading http://yann.lecun.com/exdb/mnist/t10k-labels-idx1-ubyte.gz\n",
            "Failed to download (trying next):\n",
            "HTTP Error 404: Not Found\n",
            "\n",
            "Downloading https://ossci-datasets.s3.amazonaws.com/mnist/t10k-labels-idx1-ubyte.gz\n",
            "Downloading https://ossci-datasets.s3.amazonaws.com/mnist/t10k-labels-idx1-ubyte.gz to ./data/MNIST/raw/t10k-labels-idx1-ubyte.gz\n"
          ]
        },
        {
          "output_type": "stream",
          "name": "stderr",
          "text": [
            "100%|██████████| 4.54k/4.54k [00:00<00:00, 2.65MB/s]\n"
          ]
        },
        {
          "output_type": "stream",
          "name": "stdout",
          "text": [
            "Extracting ./data/MNIST/raw/t10k-labels-idx1-ubyte.gz to ./data/MNIST/raw\n",
            "\n"
          ]
        },
        {
          "output_type": "display_data",
          "data": {
            "text/plain": [
              "<Figure size 640x480 with 4 Axes>"
            ],
            "image/png": "[encoded data removed]"
          },
          "metadata": {}
        }
      ]
    },
    {
      "cell_type": "markdown",
      "source": [
        "## 定义损失函数和优化器\n",
        "这里为了更快的收敛并且效果较好，使用交叉熵作为损失函数。\n",
        "\n",
        "有了模型，有了损失函数，现在还需要一个优化算法根据反向传播帮助我们进行权重修正，这里采用的优化方法为随机梯度下降（SGD），也可以使用 Adam 等。"
      ],
      "metadata": {
        "id": "DtsCrK41FHeM"
      }
    },
    {
      "cell_type": "code",
      "source": [
        "# 定义损失函数——交叉熵\n",
        "criterion = nn.CrossEntropyLoss()\n",
        "\n",
        "# 定义优化器——随机梯度下降\n",
        "optimizer = optim.SGD(net.parameters(), lr=1e-2, weight_decay=5e-4)"
      ],
      "metadata": {
        "id": "eCGOl2wpFl5a"
      },
      "execution_count": 6,
      "outputs": []
    },
    {
      "cell_type": "markdown",
      "source": [
        "## 开始训练：前向传播和反向传播\n",
        "准备工作都完成了，那么就开始训练！\n",
        "\n",
        "这里先设置训练轮次为 20，可以自行修改查看结果的变化。"
      ],
      "metadata": {
        "id": "kf-fcSsbF4w9"
      }
    },
    {
      "cell_type": "code",
      "source": [
        "# 开始训练\n",
        "# 记录训练损失\n",
        "losses = []\n",
        "\n",
        "# 记录训练精度\n",
        "acces = []\n",
        "\n",
        "# 记录测试损失\n",
        "eval_losses = []\n",
        "\n",
        "# 记录测试精度\n",
        "eval_acces = []\n",
        "\n",
        "# 设置迭代次数\n",
        "nums_epoch = 20\n",
        "\n",
        "for epoch in range(nums_epoch):\n",
        "    train_loss = 0\n",
        "    train_acc = 0\n",
        "    net = net.train()\n",
        "\n",
        "    for batch, (img, label) in enumerate(train_data):\n",
        "        img = img.reshape(img.size(0), -1)\n",
        "        img = Variable(img)\n",
        "        label = Variable(label)\n",
        "\n",
        "        # 前向传播\n",
        "        out = net(img)\n",
        "        loss = criterion(out, label)\n",
        "\n",
        "        # 反向传播\n",
        "        optimizer.zero_grad()\n",
        "        loss.backward()\n",
        "        optimizer.step()\n",
        "\n",
        "        # 记录误差\n",
        "        train_loss += loss.item()\n",
        "        # 计算分类的准确率\n",
        "        _, pred = out.max(1)\n",
        "        num_correct = (pred == label).sum().item()\n",
        "        acc = num_correct / img.shape[0]\n",
        "\n",
        "        if (batch + 1) % 200 == 0:\n",
        "            print(\"[INFO] Epoch-{}-Batch-{}: Train: Loss-{:.4f}. Accuracy-{:.4f}\".format(epoch + 1, batch + 1, loss.item(), acc))\n",
        "\n",
        "        train_acc += acc\n",
        "\n",
        "    losses.append(train_loss / len(train_data))\n",
        "    acces.append(train_acc / len(train_data))\n",
        "\n",
        "    eval_loss = 0\n",
        "    eval_acc = 0\n",
        "\n",
        "    # 测试集不训练\n",
        "    for img, label in test_data:\n",
        "        img = img.reshape(img.size(0), -1)\n",
        "        img = Variable(img)\n",
        "        label = Variable(label)\n",
        "\n",
        "        out = net(img)\n",
        "        loss = criterion(out, label)\n",
        "\n",
        "        # 记录误差\n",
        "        eval_loss += loss.item()\n",
        "\n",
        "        _, pred = out.max(1)\n",
        "        num_correct = (pred == label).sum().item()\n",
        "        acc = num_correct / img.shape[0]\n",
        "\n",
        "        eval_acc += acc\n",
        "\n",
        "    eval_losses.append(eval_loss / len(test_data))\n",
        "    eval_acces.append(eval_acc / len(test_data))\n",
        "\n",
        "    print(\"[INFO] Epoch-{}: Train: Loss-{:.4f}. Accuracy-{:.4f} | Test: Loss-{:.4f}, Accuracy-{:.4f}\".format(epoch + 1, train_loss / len(train_data), train_acc / len(train_data), eval_loss / len(test_data), eval_acc / len(test_data)))\n"
      ],
      "metadata": {
        "colab": {
          "base_uri": "https://localhost:8080/"
        },
        "id": "lO9pcpBIGM_R",
        "outputId": "0f05c344-644a-476d-b01d-bb244c7b9ddc"
      },
      "execution_count": 8,
      "outputs": [
        {
          "output_type": "stream",
          "name": "stdout",
          "text": [
            "[INFO] Epoch-1-Batch-200: Train: Loss-1.2670. Accuracy-0.7031\n",
            "[INFO] Epoch-1-Batch-400: Train: Loss-0.9629. Accuracy-0.8125\n",
            "[INFO] Epoch-1-Batch-600: Train: Loss-0.6086. Accuracy-0.8125\n",
            "[INFO] Epoch-1-Batch-800: Train: Loss-0.6496. Accuracy-0.8281\n",
            "[INFO] Epoch-1: Train: Loss-0.9685. Accuracy-0.7581 | Test: Loss-0.5106, Accuracy-0.8494\n",
            "[INFO] Epoch-2-Batch-200: Train: Loss-0.5420. Accuracy-0.8594\n",
            "[INFO] Epoch-2-Batch-400: Train: Loss-0.3663. Accuracy-0.9531\n",
            "[INFO] Epoch-2-Batch-600: Train: Loss-0.2919. Accuracy-0.8906\n",
            "[INFO] Epoch-2-Batch-800: Train: Loss-0.5270. Accuracy-0.8125\n",
            "[INFO] Epoch-2: Train: Loss-0.4473. Accuracy-0.8715 | Test: Loss-0.3776, Accuracy-0.8860\n",
            "[INFO] Epoch-3-Batch-200: Train: Loss-0.4970. Accuracy-0.8438\n",
            "[INFO] Epoch-3-Batch-400: Train: Loss-0.4281. Accuracy-0.8594\n",
            "[INFO] Epoch-3-Batch-600: Train: Loss-0.6641. Accuracy-0.8125\n",
            "[INFO] Epoch-3-Batch-800: Train: Loss-0.2713. Accuracy-0.9062\n",
            "[INFO] Epoch-3: Train: Loss-0.3644. Accuracy-0.8953 | Test: Loss-0.3272, Accuracy-0.9020\n",
            "[INFO] Epoch-4-Batch-200: Train: Loss-0.4301. Accuracy-0.8594\n",
            "[INFO] Epoch-4-Batch-400: Train: Loss-0.1832. Accuracy-0.9688\n",
            "[INFO] Epoch-4-Batch-600: Train: Loss-0.2718. Accuracy-0.8906\n",
            "[INFO] Epoch-4-Batch-800: Train: Loss-0.4430. Accuracy-0.8906\n",
            "[INFO] Epoch-4: Train: Loss-0.3222. Accuracy-0.9078 | Test: Loss-0.2935, Accuracy-0.9138\n",
            "[INFO] Epoch-5-Batch-200: Train: Loss-0.2060. Accuracy-0.9219\n",
            "[INFO] Epoch-5-Batch-400: Train: Loss-0.1475. Accuracy-0.9531\n",
            "[INFO] Epoch-5-Batch-600: Train: Loss-0.3319. Accuracy-0.9219\n",
            "[INFO] Epoch-5-Batch-800: Train: Loss-0.3363. Accuracy-0.9375\n",
            "[INFO] Epoch-5: Train: Loss-0.2898. Accuracy-0.9167 | Test: Loss-0.2690, Accuracy-0.9202\n",
            "[INFO] Epoch-6-Batch-200: Train: Loss-0.1746. Accuracy-0.9531\n",
            "[INFO] Epoch-6-Batch-400: Train: Loss-0.3865. Accuracy-0.9062\n",
            "[INFO] Epoch-6-Batch-600: Train: Loss-0.2028. Accuracy-0.9688\n",
            "[INFO] Epoch-6-Batch-800: Train: Loss-0.2569. Accuracy-0.9062\n",
            "[INFO] Epoch-6: Train: Loss-0.2620. Accuracy-0.9256 | Test: Loss-0.2421, Accuracy-0.9292\n",
            "[INFO] Epoch-7-Batch-200: Train: Loss-0.3281. Accuracy-0.9062\n",
            "[INFO] Epoch-7-Batch-400: Train: Loss-0.2034. Accuracy-0.9219\n",
            "[INFO] Epoch-7-Batch-600: Train: Loss-0.2386. Accuracy-0.9375\n",
            "[INFO] Epoch-7-Batch-800: Train: Loss-0.1057. Accuracy-0.9844\n",
            "[INFO] Epoch-7: Train: Loss-0.2370. Accuracy-0.9321 | Test: Loss-0.2189, Accuracy-0.9358\n",
            "[INFO] Epoch-8-Batch-200: Train: Loss-0.3095. Accuracy-0.9062\n",
            "[INFO] Epoch-8-Batch-400: Train: Loss-0.1583. Accuracy-0.9375\n",
            "[INFO] Epoch-8-Batch-600: Train: Loss-0.2397. Accuracy-0.9219\n",
            "[INFO] Epoch-8-Batch-800: Train: Loss-0.1933. Accuracy-0.9375\n",
            "[INFO] Epoch-8: Train: Loss-0.2148. Accuracy-0.9388 | Test: Loss-0.2044, Accuracy-0.9407\n",
            "[INFO] Epoch-9-Batch-200: Train: Loss-0.1649. Accuracy-0.9219\n",
            "[INFO] Epoch-9-Batch-400: Train: Loss-0.2124. Accuracy-0.9375\n",
            "[INFO] Epoch-9-Batch-600: Train: Loss-0.2692. Accuracy-0.9531\n",
            "[INFO] Epoch-9-Batch-800: Train: Loss-0.2446. Accuracy-0.9062\n",
            "[INFO] Epoch-9: Train: Loss-0.1953. Accuracy-0.9439 | Test: Loss-0.1847, Accuracy-0.9445\n",
            "[INFO] Epoch-10-Batch-200: Train: Loss-0.1539. Accuracy-0.9375\n",
            "[INFO] Epoch-10-Batch-400: Train: Loss-0.2412. Accuracy-0.9531\n",
            "[INFO] Epoch-10-Batch-600: Train: Loss-0.3172. Accuracy-0.8906\n",
            "[INFO] Epoch-10-Batch-800: Train: Loss-0.1645. Accuracy-0.9688\n",
            "[INFO] Epoch-10: Train: Loss-0.1787. Accuracy-0.9493 | Test: Loss-0.1697, Accuracy-0.9504\n",
            "[INFO] Epoch-11-Batch-200: Train: Loss-0.1138. Accuracy-0.9688\n",
            "[INFO] Epoch-11-Batch-400: Train: Loss-0.1275. Accuracy-0.9688\n",
            "[INFO] Epoch-11-Batch-600: Train: Loss-0.2365. Accuracy-0.9375\n",
            "[INFO] Epoch-11-Batch-800: Train: Loss-0.1651. Accuracy-0.9375\n",
            "[INFO] Epoch-11: Train: Loss-0.1643. Accuracy-0.9530 | Test: Loss-0.1566, Accuracy-0.9538\n",
            "[INFO] Epoch-12-Batch-200: Train: Loss-0.1265. Accuracy-0.9688\n",
            "[INFO] Epoch-12-Batch-400: Train: Loss-0.1007. Accuracy-0.9531\n",
            "[INFO] Epoch-12-Batch-600: Train: Loss-0.0858. Accuracy-0.9688\n",
            "[INFO] Epoch-12-Batch-800: Train: Loss-0.1305. Accuracy-0.9688\n",
            "[INFO] Epoch-12: Train: Loss-0.1517. Accuracy-0.9575 | Test: Loss-0.1496, Accuracy-0.9561\n",
            "[INFO] Epoch-13-Batch-200: Train: Loss-0.0554. Accuracy-1.0000\n",
            "[INFO] Epoch-13-Batch-400: Train: Loss-0.0772. Accuracy-0.9688\n",
            "[INFO] Epoch-13-Batch-600: Train: Loss-0.0943. Accuracy-0.9531\n",
            "[INFO] Epoch-13-Batch-800: Train: Loss-0.1121. Accuracy-0.9688\n",
            "[INFO] Epoch-13: Train: Loss-0.1407. Accuracy-0.9596 | Test: Loss-0.1428, Accuracy-0.9573\n",
            "[INFO] Epoch-14-Batch-200: Train: Loss-0.0901. Accuracy-0.9844\n",
            "[INFO] Epoch-14-Batch-400: Train: Loss-0.2643. Accuracy-0.9531\n",
            "[INFO] Epoch-14-Batch-600: Train: Loss-0.2106. Accuracy-0.9375\n",
            "[INFO] Epoch-14-Batch-800: Train: Loss-0.1415. Accuracy-0.9531\n",
            "[INFO] Epoch-14: Train: Loss-0.1312. Accuracy-0.9627 | Test: Loss-0.1348, Accuracy-0.9598\n",
            "[INFO] Epoch-15-Batch-200: Train: Loss-0.0914. Accuracy-0.9688\n",
            "[INFO] Epoch-15-Batch-400: Train: Loss-0.0499. Accuracy-1.0000\n",
            "[INFO] Epoch-15-Batch-600: Train: Loss-0.1543. Accuracy-0.9688\n",
            "[INFO] Epoch-15-Batch-800: Train: Loss-0.1369. Accuracy-0.9531\n",
            "[INFO] Epoch-15: Train: Loss-0.1222. Accuracy-0.9653 | Test: Loss-0.1256, Accuracy-0.9628\n",
            "[INFO] Epoch-16-Batch-200: Train: Loss-0.1238. Accuracy-0.9844\n",
            "[INFO] Epoch-16-Batch-400: Train: Loss-0.0684. Accuracy-0.9688\n",
            "[INFO] Epoch-16-Batch-600: Train: Loss-0.3032. Accuracy-0.9062\n",
            "[INFO] Epoch-16-Batch-800: Train: Loss-0.0980. Accuracy-0.9531\n",
            "[INFO] Epoch-16: Train: Loss-0.1145. Accuracy-0.9673 | Test: Loss-0.1200, Accuracy-0.9639\n",
            "[INFO] Epoch-17-Batch-200: Train: Loss-0.1268. Accuracy-0.9688\n",
            "[INFO] Epoch-17-Batch-400: Train: Loss-0.0769. Accuracy-0.9531\n",
            "[INFO] Epoch-17-Batch-600: Train: Loss-0.2441. Accuracy-0.9219\n",
            "[INFO] Epoch-17-Batch-800: Train: Loss-0.1285. Accuracy-0.9688\n",
            "[INFO] Epoch-17: Train: Loss-0.1076. Accuracy-0.9695 | Test: Loss-0.1132, Accuracy-0.9661\n",
            "[INFO] Epoch-18-Batch-200: Train: Loss-0.0632. Accuracy-0.9844\n",
            "[INFO] Epoch-18-Batch-400: Train: Loss-0.1333. Accuracy-0.9531\n",
            "[INFO] Epoch-18-Batch-600: Train: Loss-0.1805. Accuracy-0.9531\n",
            "[INFO] Epoch-18-Batch-800: Train: Loss-0.0578. Accuracy-0.9844\n",
            "[INFO] Epoch-18: Train: Loss-0.1012. Accuracy-0.9716 | Test: Loss-0.1099, Accuracy-0.9675\n",
            "[INFO] Epoch-19-Batch-200: Train: Loss-0.1555. Accuracy-0.9531\n",
            "[INFO] Epoch-19-Batch-400: Train: Loss-0.0377. Accuracy-0.9844\n",
            "[INFO] Epoch-19-Batch-600: Train: Loss-0.0471. Accuracy-0.9844\n",
            "[INFO] Epoch-19-Batch-800: Train: Loss-0.1505. Accuracy-0.9688\n",
            "[INFO] Epoch-19: Train: Loss-0.0955. Accuracy-0.9730 | Test: Loss-0.1078, Accuracy-0.9670\n",
            "[INFO] Epoch-20-Batch-200: Train: Loss-0.1162. Accuracy-0.9688\n",
            "[INFO] Epoch-20-Batch-400: Train: Loss-0.0686. Accuracy-0.9688\n",
            "[INFO] Epoch-20-Batch-600: Train: Loss-0.0940. Accuracy-0.9688\n",
            "[INFO] Epoch-20-Batch-800: Train: Loss-0.0343. Accuracy-1.0000\n",
            "[INFO] Epoch-20: Train: Loss-0.0904. Accuracy-0.9748 | Test: Loss-0.1027, Accuracy-0.9682\n"
          ]
        }
      ]
    },
    {
      "cell_type": "markdown",
      "source": [
        "## 结果可视化\n",
        "这里把训练完的结果可视化一下："
      ],
      "metadata": {
        "id": "9mmKpxWNKqC7"
      }
    },
    {
      "cell_type": "code",
      "source": [
        "plt.figure()\n",
        "plt.suptitle(\"Test\", fontsize=12)\n",
        "ax1 = plt.subplot(1, 2, 1)\n",
        "ax1.plot(eval_losses, color=\"r\")\n",
        "ax1.plot(losses, color=\"b\")\n",
        "ax1.set_title(\"Loss\", fontsize=10, color=\"black\")\n",
        "ax2 = plt.subplot(1, 2, 2)\n",
        "ax2.plot(eval_acces, color=\"r\")\n",
        "ax2.plot(acces, color=\"b\")\n",
        "ax2.set_title(\"Acc\", fontsize=10, color=\"black\")\n",
        "plt.show()"
      ],
      "metadata": {
        "colab": {
          "base_uri": "https://localhost:8080/",
          "height": 478
        },
        "id": "4mfToRdCKwex",
        "outputId": "b6c0270f-c769-45ec-849a-41048cfa51c7"
      },
      "execution_count": 11,
      "outputs": [
        {
          "output_type": "display_data",
          "data": {
            "text/plain": [
              "<Figure size 640x480 with 2 Axes>"
            ],
            "image/png": "[encoded data removed]"
          },
          "metadata": {}
        }
      ]
    },
    {
      "cell_type": "markdown",
      "source": [
        "最后的结果大概在 0.97 多一些，这里不做额外的优化了，后面接触的多了再进行优化~"
      ],
      "metadata": {
        "id": "r1SjwRfhSCLv"
      }
    }
  ]
}